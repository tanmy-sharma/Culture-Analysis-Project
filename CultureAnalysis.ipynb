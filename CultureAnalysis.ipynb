{
 "cells": [
  {
   "cell_type": "code",
   "execution_count": 456,
   "id": "a04ca0b4",
   "metadata": {},
   "outputs": [
    {
     "name": "stdout",
     "output_type": "stream",
     "text": [
      "Requirement already satisfied: wordcloud in /opt/anaconda3/lib/python3.9/site-packages (1.9.1.1)\r\n",
      "Requirement already satisfied: matplotlib in /opt/anaconda3/lib/python3.9/site-packages (from wordcloud) (3.4.3)\r\n",
      "Requirement already satisfied: numpy>=1.6.1 in /opt/anaconda3/lib/python3.9/site-packages (from wordcloud) (1.22.4)\r\n",
      "Requirement already satisfied: pillow in /opt/anaconda3/lib/python3.9/site-packages (from wordcloud) (8.4.0)\r\n",
      "Requirement already satisfied: python-dateutil>=2.7 in /opt/anaconda3/lib/python3.9/site-packages (from matplotlib->wordcloud) (2.8.2)\r\n",
      "Requirement already satisfied: kiwisolver>=1.0.1 in /opt/anaconda3/lib/python3.9/site-packages (from matplotlib->wordcloud) (1.3.1)\r\n",
      "Requirement already satisfied: pyparsing>=2.2.1 in /opt/anaconda3/lib/python3.9/site-packages (from matplotlib->wordcloud) (3.0.4)\r\n",
      "Requirement already satisfied: cycler>=0.10 in /opt/anaconda3/lib/python3.9/site-packages (from matplotlib->wordcloud) (0.10.0)\r\n",
      "Requirement already satisfied: six in /opt/anaconda3/lib/python3.9/site-packages (from cycler>=0.10->matplotlib->wordcloud) (1.16.0)\r\n"
     ]
    }
   ],
   "source": [
    "!pip install wordcloud"
   ]
  },
  {
   "cell_type": "code",
   "execution_count": 457,
   "id": "e768bb22",
   "metadata": {},
   "outputs": [
    {
     "name": "stderr",
     "output_type": "stream",
     "text": [
      "[nltk_data] Downloading package stopwords to\n",
      "[nltk_data]     /Users/tanmaysharma/nltk_data...\n",
      "[nltk_data]   Package stopwords is already up-to-date!\n",
      "[nltk_data] Downloading package wordnet to\n",
      "[nltk_data]     /Users/tanmaysharma/nltk_data...\n",
      "[nltk_data]   Package wordnet is already up-to-date!\n",
      "[nltk_data] Downloading package punkt to\n",
      "[nltk_data]     /Users/tanmaysharma/nltk_data...\n",
      "[nltk_data]   Package punkt is already up-to-date!\n",
      "[nltk_data] Downloading package vader_lexicon to\n",
      "[nltk_data]     /Users/tanmaysharma/nltk_data...\n",
      "[nltk_data]   Package vader_lexicon is already up-to-date!\n"
     ]
    }
   ],
   "source": [
    "import pandas as pd\n",
    "import numpy as np\n",
    "\n",
    "import re\n",
    "import nltk\n",
    "from nltk.corpus import stopwords\n",
    "nltk.download('stopwords')\n",
    "from nltk.stem import PorterStemmer\n",
    "from nltk.stem import WordNetLemmatizer\n",
    "nltk.download('wordnet')\n",
    "from nltk.tokenize import word_tokenize\n",
    "from nltk.tokenize import sent_tokenize\n",
    "nltk.download('punkt')\n",
    "nltk.downloader.download('vader_lexicon')\n",
    "from nltk.sentiment.vader import SentimentIntensityAnalyzer\n",
    "from collections import Counter\n",
    "from wordcloud import WordCloud\n",
    "from nltk.corpus import stopwords"
   ]
  },
  {
   "cell_type": "markdown",
   "id": "26710113",
   "metadata": {},
   "source": [
    "## Reading Dataset"
   ]
  },
  {
   "cell_type": "code",
   "execution_count": 458,
   "id": "7f8e19ea",
   "metadata": {},
   "outputs": [
    {
     "data": {
      "text/html": [
       "<div>\n",
       "<style scoped>\n",
       "    .dataframe tbody tr th:only-of-type {\n",
       "        vertical-align: middle;\n",
       "    }\n",
       "\n",
       "    .dataframe tbody tr th {\n",
       "        vertical-align: top;\n",
       "    }\n",
       "\n",
       "    .dataframe thead th {\n",
       "        text-align: right;\n",
       "    }\n",
       "</style>\n",
       "<table border=\"1\" class=\"dataframe\">\n",
       "  <thead>\n",
       "    <tr style=\"text-align: right;\">\n",
       "      <th></th>\n",
       "      <th>ReviewTitle</th>\n",
       "      <th>CompleteReview</th>\n",
       "      <th>URL</th>\n",
       "      <th>Rating</th>\n",
       "      <th>ReviewDetails</th>\n",
       "    </tr>\n",
       "  </thead>\n",
       "  <tbody>\n",
       "    <tr>\n",
       "      <th>0</th>\n",
       "      <td>Productive</td>\n",
       "      <td>Good company, cool workplace, work load little...</td>\n",
       "      <td>https://in.indeed.com/cmp/Reliance-Industries-...</td>\n",
       "      <td>3</td>\n",
       "      <td>(Current Employee)  -  Ghansoli  -  August 30,...</td>\n",
       "    </tr>\n",
       "    <tr>\n",
       "      <th>1</th>\n",
       "      <td>Stressful</td>\n",
       "      <td>1. Need to work on boss's whims and fancies 2....</td>\n",
       "      <td>https://in.indeed.com/cmp/Reliance-Industries-...</td>\n",
       "      <td>3</td>\n",
       "      <td>(Former Employee)  -   -  August 26, 2021</td>\n",
       "    </tr>\n",
       "    <tr>\n",
       "      <th>2</th>\n",
       "      <td>Good Company for Every employee</td>\n",
       "      <td>Good company for every Engineers dream, Full M...</td>\n",
       "      <td>https://in.indeed.com/cmp/Reliance-Industries-...</td>\n",
       "      <td>5</td>\n",
       "      <td>(Former Employee)  -   -  August 17, 2021</td>\n",
       "    </tr>\n",
       "    <tr>\n",
       "      <th>3</th>\n",
       "      <td>Productive</td>\n",
       "      <td>I am just pass out bsc in chemistry Typical da...</td>\n",
       "      <td>https://in.indeed.com/cmp/Reliance-Industries-...</td>\n",
       "      <td>5</td>\n",
       "      <td>(Current Employee)  -   -  August 17, 2021</td>\n",
       "    </tr>\n",
       "    <tr>\n",
       "      <th>4</th>\n",
       "      <td>Non productive</td>\n",
       "      <td>Not so fun at work just blame games  Target pe...</td>\n",
       "      <td>https://in.indeed.com/cmp/Reliance-Industries-...</td>\n",
       "      <td>1</td>\n",
       "      <td>(Former Employee)  -   -  August 9, 2021</td>\n",
       "    </tr>\n",
       "  </tbody>\n",
       "</table>\n",
       "</div>"
      ],
      "text/plain": [
       "                       ReviewTitle  \\\n",
       "0                       Productive   \n",
       "1                        Stressful   \n",
       "2  Good Company for Every employee   \n",
       "3                       Productive   \n",
       "4                   Non productive   \n",
       "\n",
       "                                      CompleteReview  \\\n",
       "0  Good company, cool workplace, work load little...   \n",
       "1  1. Need to work on boss's whims and fancies 2....   \n",
       "2  Good company for every Engineers dream, Full M...   \n",
       "3  I am just pass out bsc in chemistry Typical da...   \n",
       "4  Not so fun at work just blame games  Target pe...   \n",
       "\n",
       "                                                 URL  Rating  \\\n",
       "0  https://in.indeed.com/cmp/Reliance-Industries-...       3   \n",
       "1  https://in.indeed.com/cmp/Reliance-Industries-...       3   \n",
       "2  https://in.indeed.com/cmp/Reliance-Industries-...       5   \n",
       "3  https://in.indeed.com/cmp/Reliance-Industries-...       5   \n",
       "4  https://in.indeed.com/cmp/Reliance-Industries-...       1   \n",
       "\n",
       "                                       ReviewDetails  \n",
       "0  (Current Employee)  -  Ghansoli  -  August 30,...  \n",
       "1          (Former Employee)  -   -  August 26, 2021  \n",
       "2          (Former Employee)  -   -  August 17, 2021  \n",
       "3         (Current Employee)  -   -  August 17, 2021  \n",
       "4           (Former Employee)  -   -  August 9, 2021  "
      ]
     },
     "execution_count": 458,
     "metadata": {},
     "output_type": "execute_result"
    }
   ],
   "source": [
    "df = pd.read_json('Downloads/results.json')\n",
    "df.head()"
   ]
  },
  {
   "cell_type": "markdown",
   "id": "a7f374ee",
   "metadata": {},
   "source": [
    "## Feature Engineering\n",
    "\n",
    "1. We can see that in review details, we have three things, the employee's current status, the place where he lives, and then the date the review was made. So, we will take out those details and then delete the Review Details column.\n",
    "\n",
    "2. We can see that in the URL, we can extract the company of the employee. So, we will extract the company from the URL and then delete URL column as well. "
   ]
  },
  {
   "cell_type": "code",
   "execution_count": 459,
   "id": "62ad1f2d",
   "metadata": {},
   "outputs": [],
   "source": [
    "def extract_position(data):\n",
    "    return data.split(\" - \")[0]"
   ]
  },
  {
   "cell_type": "code",
   "execution_count": 460,
   "id": "54c4d7c5",
   "metadata": {},
   "outputs": [],
   "source": [
    "def extract_place(data):\n",
    "    return data.split(\" - \")[1]"
   ]
  },
  {
   "cell_type": "code",
   "execution_count": 461,
   "id": "0d1130f6",
   "metadata": {},
   "outputs": [],
   "source": [
    "def extract_date(data):\n",
    "    return data.split(\" - \")[2]"
   ]
  },
  {
   "cell_type": "markdown",
   "id": "12621e9b",
   "metadata": {},
   "source": [
    "#### Place Column"
   ]
  },
  {
   "cell_type": "code",
   "execution_count": 462,
   "id": "50d9da2e",
   "metadata": {},
   "outputs": [],
   "source": [
    "df['Place'] = df['ReviewDetails'].apply(extract_place)"
   ]
  },
  {
   "cell_type": "code",
   "execution_count": 463,
   "id": "f152974e",
   "metadata": {},
   "outputs": [
    {
     "data": {
      "text/plain": [
       "129942"
      ]
     },
     "execution_count": 463,
     "metadata": {},
     "output_type": "execute_result"
    }
   ],
   "source": [
    "df['Place'][df['Place'] == ' '].count().sum()"
   ]
  },
  {
   "cell_type": "markdown",
   "id": "2ee892f4",
   "metadata": {},
   "source": [
    "As we can see that many of the places are missing. We can assume that the person writing this review opted not to give the location. Let's see the other location dataset, how does it look like."
   ]
  },
  {
   "cell_type": "code",
   "execution_count": 464,
   "id": "194b3b3b",
   "metadata": {},
   "outputs": [
    {
     "data": {
      "text/plain": [
       "                                      129942\n",
       " India                                  3319\n",
       " Bangalore Urban, Karnataka              989\n",
       " india                                   767\n",
       " HP                                      275\n",
       "                                       ...  \n",
       " Opp to VOC ground, Palayamkottai          1\n",
       " Janakpuri Block B 1, Delhi                1\n",
       " Sion, Mumbai, Maharashtra                 1\n",
       " pondycheery                               1\n",
       " Nerul, India                              1\n",
       "Name: Place, Length: 3781, dtype: int64"
      ]
     },
     "execution_count": 464,
     "metadata": {},
     "output_type": "execute_result"
    }
   ],
   "source": [
    "df['Place'].value_counts()"
   ]
  },
  {
   "cell_type": "markdown",
   "id": "52d0c54b",
   "metadata": {},
   "source": [
    "As we can see that we have Data in a very unstructed way. The location is very unique in some cases and in some cases, it's just the country. Eg. banglore has 989, and India has 3319 separately, which makes this column extremely hard to work with and useless in the long term because of no structureness. So, we remove this column."
   ]
  },
  {
   "cell_type": "code",
   "execution_count": 465,
   "id": "6f917aa8",
   "metadata": {},
   "outputs": [],
   "source": [
    "df.drop(columns = 'Place', axis = 1, inplace = True)"
   ]
  },
  {
   "cell_type": "markdown",
   "id": "a16fcaf3",
   "metadata": {},
   "source": [
    "#### Position Column"
   ]
  },
  {
   "cell_type": "code",
   "execution_count": 466,
   "id": "5deffe76",
   "metadata": {},
   "outputs": [],
   "source": [
    "df['Position'] = df['ReviewDetails'].apply(extract_position)"
   ]
  },
  {
   "cell_type": "markdown",
   "id": "2df0f1df",
   "metadata": {},
   "source": [
    "Let's remove the brackets from the position column"
   ]
  },
  {
   "cell_type": "code",
   "execution_count": 467,
   "id": "830090df",
   "metadata": {},
   "outputs": [],
   "source": [
    "df['Position'] = df['Position'].str.strip('( )')"
   ]
  },
  {
   "cell_type": "code",
   "execution_count": 468,
   "id": "7a0bf428",
   "metadata": {},
   "outputs": [
    {
     "data": {
      "text/plain": [
       "0         Current Employee\n",
       "1          Former Employee\n",
       "2          Former Employee\n",
       "3         Current Employee\n",
       "4          Former Employee\n",
       "                ...       \n",
       "145204     Former Employee\n",
       "145205     Former Employee\n",
       "145206     Former Employee\n",
       "145207     Former Employee\n",
       "145208     Former Employee\n",
       "Name: Position, Length: 145209, dtype: object"
      ]
     },
     "execution_count": 468,
     "metadata": {},
     "output_type": "execute_result"
    }
   ],
   "source": [
    "df['Position']"
   ]
  },
  {
   "cell_type": "markdown",
   "id": "5d4f2dd9",
   "metadata": {},
   "source": [
    "#### Date Column"
   ]
  },
  {
   "cell_type": "code",
   "execution_count": 469,
   "id": "ad8f83be",
   "metadata": {},
   "outputs": [],
   "source": [
    "df['Date'] = df['ReviewDetails'].apply(extract_date)"
   ]
  },
  {
   "cell_type": "markdown",
   "id": "f4e9fa6d",
   "metadata": {},
   "source": [
    "#### Removing Review Details"
   ]
  },
  {
   "cell_type": "code",
   "execution_count": 470,
   "id": "f9721e3c",
   "metadata": {},
   "outputs": [],
   "source": [
    "df.drop(columns = 'ReviewDetails', axis = 1, inplace = True)"
   ]
  },
  {
   "cell_type": "markdown",
   "id": "99f443d1",
   "metadata": {},
   "source": [
    "#### Extracting Company Names"
   ]
  },
  {
   "cell_type": "code",
   "execution_count": 471,
   "id": "33f9d7c3",
   "metadata": {},
   "outputs": [],
   "source": [
    "def extract_company(s):\n",
    "    s = s[26:]\n",
    "    s = s.split('/')[0]\n",
    "    return s"
   ]
  },
  {
   "cell_type": "code",
   "execution_count": 472,
   "id": "5e0acae7",
   "metadata": {},
   "outputs": [],
   "source": [
    "df['Company'] = df['URL'].apply(extract_company)"
   ]
  },
  {
   "cell_type": "code",
   "execution_count": 473,
   "id": "d306dc52",
   "metadata": {},
   "outputs": [
    {
     "data": {
      "text/plain": [
       "Tata-Consultancy-Services-(tcs)    14441\n",
       "IBM                                10820\n",
       "Infosys                            10696\n",
       "Accenture                          10137\n",
       "Cognizant-Technology-Solutions      9626\n",
       "Hdfc-Bank                           6749\n",
       "Capgemini                           5248\n",
       "Amazon.com                          3385\n",
       "L&T-Technology-Services-Ltd.        3226\n",
       "Concentrix                          3162\n",
       "Axis-Bank                           3125\n",
       "HSBC                                3117\n",
       "HP                                  3115\n",
       "Hinduja-Global-Solutions            3060\n",
       "Dell-Technologies                   2778\n",
       "Deloitte                            2671\n",
       "Bharti-Airtel-Limited               2353\n",
       "Mphasis                             2269\n",
       "Teleperformance                     2175\n",
       "Oracle                              2076\n",
       "Ey                                  1983\n",
       "Kotak-Mahindra-Bank                 1910\n",
       "Sutherland                          1896\n",
       "Ericsson                            1852\n",
       "Wns-Global-Services                 1849\n",
       "JPMorgan-Chase                      1767\n",
       "Reliance-Industries-Ltd             1584\n",
       "Muthoot-Finance                     1499\n",
       "Bosch                               1466\n",
       "Jio                                 1459\n",
       "Nokia                               1384\n",
       "Vodafoneziggo                       1279\n",
       "Honeywell                           1273\n",
       "Icici-Prudential-Life-Insurance     1266\n",
       "Citi                                1250\n",
       "UnitedHealth-Group                  1206\n",
       "Mahindra-&-Mahindra-Ltd             1157\n",
       "American-Express                    1148\n",
       "Kpmg                                1137\n",
       "Standard-Chartered-Bank             1091\n",
       "Barclays                            1082\n",
       "Maersk                              1054\n",
       "Deutsche-Bank                        906\n",
       "Flipkart.com                         873\n",
       "Yes-Bank                             849\n",
       "Hyatt                                799\n",
       "Apollo-Hospitals                     777\n",
       "Marriott-International,-Inc.         758\n",
       "Wells-Fargo                          734\n",
       "Microsoft                            675\n",
       "Google                               564\n",
       "DHL                                  483\n",
       "Tata-Aia-Life                        467\n",
       "Jll                                  451\n",
       "Alstom                               380\n",
       "Ride.swiggy                          320\n",
       "Byju's                               281\n",
       "Facebook                              37\n",
       "Indeed                                34\n",
       "Name: Company, dtype: int64"
      ]
     },
     "execution_count": 473,
     "metadata": {},
     "output_type": "execute_result"
    }
   ],
   "source": [
    "df['Company'].value_counts()"
   ]
  },
  {
   "cell_type": "markdown",
   "id": "c2da80f4",
   "metadata": {},
   "source": [
    "We drop the URL column now."
   ]
  },
  {
   "cell_type": "code",
   "execution_count": 474,
   "id": "b7aa07cb",
   "metadata": {},
   "outputs": [],
   "source": [
    "df.drop(columns = 'URL', axis = 1, inplace = True)"
   ]
  },
  {
   "cell_type": "code",
   "execution_count": 475,
   "id": "abb3a763",
   "metadata": {},
   "outputs": [
    {
     "data": {
      "text/html": [
       "<div>\n",
       "<style scoped>\n",
       "    .dataframe tbody tr th:only-of-type {\n",
       "        vertical-align: middle;\n",
       "    }\n",
       "\n",
       "    .dataframe tbody tr th {\n",
       "        vertical-align: top;\n",
       "    }\n",
       "\n",
       "    .dataframe thead th {\n",
       "        text-align: right;\n",
       "    }\n",
       "</style>\n",
       "<table border=\"1\" class=\"dataframe\">\n",
       "  <thead>\n",
       "    <tr style=\"text-align: right;\">\n",
       "      <th></th>\n",
       "      <th>ReviewTitle</th>\n",
       "      <th>CompleteReview</th>\n",
       "      <th>Rating</th>\n",
       "      <th>Position</th>\n",
       "      <th>Date</th>\n",
       "      <th>Company</th>\n",
       "    </tr>\n",
       "  </thead>\n",
       "  <tbody>\n",
       "    <tr>\n",
       "      <th>0</th>\n",
       "      <td>Productive</td>\n",
       "      <td>Good company, cool workplace, work load little...</td>\n",
       "      <td>3</td>\n",
       "      <td>Current Employee</td>\n",
       "      <td>August 30, 2021</td>\n",
       "      <td>Reliance-Industries-Ltd</td>\n",
       "    </tr>\n",
       "    <tr>\n",
       "      <th>1</th>\n",
       "      <td>Stressful</td>\n",
       "      <td>1. Need to work on boss's whims and fancies 2....</td>\n",
       "      <td>3</td>\n",
       "      <td>Former Employee</td>\n",
       "      <td>August 26, 2021</td>\n",
       "      <td>Reliance-Industries-Ltd</td>\n",
       "    </tr>\n",
       "    <tr>\n",
       "      <th>2</th>\n",
       "      <td>Good Company for Every employee</td>\n",
       "      <td>Good company for every Engineers dream, Full M...</td>\n",
       "      <td>5</td>\n",
       "      <td>Former Employee</td>\n",
       "      <td>August 17, 2021</td>\n",
       "      <td>Reliance-Industries-Ltd</td>\n",
       "    </tr>\n",
       "    <tr>\n",
       "      <th>3</th>\n",
       "      <td>Productive</td>\n",
       "      <td>I am just pass out bsc in chemistry Typical da...</td>\n",
       "      <td>5</td>\n",
       "      <td>Current Employee</td>\n",
       "      <td>August 17, 2021</td>\n",
       "      <td>Reliance-Industries-Ltd</td>\n",
       "    </tr>\n",
       "    <tr>\n",
       "      <th>4</th>\n",
       "      <td>Non productive</td>\n",
       "      <td>Not so fun at work just blame games  Target pe...</td>\n",
       "      <td>1</td>\n",
       "      <td>Former Employee</td>\n",
       "      <td>August 9, 2021</td>\n",
       "      <td>Reliance-Industries-Ltd</td>\n",
       "    </tr>\n",
       "  </tbody>\n",
       "</table>\n",
       "</div>"
      ],
      "text/plain": [
       "                       ReviewTitle  \\\n",
       "0                       Productive   \n",
       "1                        Stressful   \n",
       "2  Good Company for Every employee   \n",
       "3                       Productive   \n",
       "4                   Non productive   \n",
       "\n",
       "                                      CompleteReview  Rating  \\\n",
       "0  Good company, cool workplace, work load little...       3   \n",
       "1  1. Need to work on boss's whims and fancies 2....       3   \n",
       "2  Good company for every Engineers dream, Full M...       5   \n",
       "3  I am just pass out bsc in chemistry Typical da...       5   \n",
       "4  Not so fun at work just blame games  Target pe...       1   \n",
       "\n",
       "           Position              Date                  Company  \n",
       "0  Current Employee   August 30, 2021  Reliance-Industries-Ltd  \n",
       "1   Former Employee   August 26, 2021  Reliance-Industries-Ltd  \n",
       "2   Former Employee   August 17, 2021  Reliance-Industries-Ltd  \n",
       "3  Current Employee   August 17, 2021  Reliance-Industries-Ltd  \n",
       "4   Former Employee    August 9, 2021  Reliance-Industries-Ltd  "
      ]
     },
     "execution_count": 475,
     "metadata": {},
     "output_type": "execute_result"
    }
   ],
   "source": [
    "df.head()"
   ]
  },
  {
   "cell_type": "markdown",
   "id": "5d436e64",
   "metadata": {},
   "source": [
    "## Missing Values"
   ]
  },
  {
   "cell_type": "code",
   "execution_count": 476,
   "id": "987bf62b",
   "metadata": {},
   "outputs": [
    {
     "data": {
      "text/plain": [
       "ReviewTitle       0\n",
       "CompleteReview    0\n",
       "Rating            0\n",
       "Position          0\n",
       "Date              0\n",
       "Company           0\n",
       "dtype: int64"
      ]
     },
     "execution_count": 476,
     "metadata": {},
     "output_type": "execute_result"
    }
   ],
   "source": [
    "df.isna().sum()"
   ]
  },
  {
   "cell_type": "markdown",
   "id": "de2985d6",
   "metadata": {},
   "source": [
    "No missing values!!!"
   ]
  },
  {
   "cell_type": "markdown",
   "id": "2666cd18",
   "metadata": {},
   "source": [
    "## Data Preprocessing\n",
    "\n",
    "1. We need to process the complete review, and covert it into something that can be processed better.\n",
    "2. We will convert position into numeric.\n",
    "3. Checking about the review title class and altering it if necessary."
   ]
  },
  {
   "cell_type": "markdown",
   "id": "6fdb226d",
   "metadata": {},
   "source": [
    "#### Complete Review"
   ]
  },
  {
   "cell_type": "code",
   "execution_count": 477,
   "id": "13e58e91",
   "metadata": {},
   "outputs": [],
   "source": [
    "# we will first create a copy column for refrence later on\n",
    "\n",
    "df['CompleteReview_ref'] = df['CompleteReview']"
   ]
  },
  {
   "cell_type": "code",
   "execution_count": 478,
   "id": "8fa3c0d6",
   "metadata": {},
   "outputs": [],
   "source": [
    "# removing tags from reviews \n",
    "\n",
    "def remove_tags(text):\n",
    "  remove = re.compile(r'')\n",
    "  return re.sub(remove, '', text)\n",
    "  \n",
    "df['CompleteReview'] = df['CompleteReview'].apply(remove_tags)"
   ]
  },
  {
   "cell_type": "code",
   "execution_count": 479,
   "id": "5eac2a60",
   "metadata": {},
   "outputs": [],
   "source": [
    "# removing special characters from reviews\n",
    "\n",
    "def special_char(text):\n",
    "  sample_text = ''\n",
    "  for x in text:\n",
    "    if x.isalnum():\n",
    "      sample_text = sample_text + x\n",
    "    else:\n",
    "      sample_text = sample_text + ' '\n",
    "  return sample_text\n",
    "\n",
    "df['CompleteReview'] = df['CompleteReview'].apply(special_char)"
   ]
  },
  {
   "cell_type": "code",
   "execution_count": 480,
   "id": "03e6dcd1",
   "metadata": {},
   "outputs": [],
   "source": [
    "# converting the text into lowercase\n",
    "\n",
    "def convert_lower(text):\n",
    "   return text.lower()\n",
    "  \n",
    "df['CompleteReview'] = df['CompleteReview'].apply(convert_lower)"
   ]
  },
  {
   "cell_type": "code",
   "execution_count": 481,
   "id": "44f053a1",
   "metadata": {},
   "outputs": [],
   "source": [
    "def remove_stopwords(text):\n",
    "    stop_words = set(stopwords.words('english'))\n",
    "    filtered_text = [word for word in text.split() if word.lower() not in stop_words]\n",
    "    return ' '.join(filtered_text)\n",
    "\n",
    "df['CompleteReview'] = df['CompleteReview'].apply(remove_stopwords)"
   ]
  },
  {
   "cell_type": "code",
   "execution_count": 482,
   "id": "3d84f538",
   "metadata": {},
   "outputs": [],
   "source": [
    "# performing lemmatization\n",
    "\n",
    "def lemmatize_word(text):\n",
    "    wordnet = WordNetLemmatizer()\n",
    "    words = nltk.word_tokenize(text)\n",
    "    lemmatized_words = [wordnet.lemmatize(word) for word in words]\n",
    "    lemmatized_text = ' '.join(lemmatized_words)\n",
    "    return lemmatized_text\n",
    "\n",
    "df['CompleteReview'] = df['CompleteReview'].apply(lemmatize_word)"
   ]
  },
  {
   "cell_type": "code",
   "execution_count": 483,
   "id": "73167eeb",
   "metadata": {},
   "outputs": [],
   "source": [
    "# perform tokenization\n",
    "\n",
    "def tokenize_word(text):\n",
    "    return word_tokenize(text)\n",
    "\n",
    "df['CompleteReview'] = df['CompleteReview'].apply(tokenize_word)"
   ]
  },
  {
   "cell_type": "code",
   "execution_count": 484,
   "id": "606cc029",
   "metadata": {},
   "outputs": [
    {
     "data": {
      "text/plain": [
       "0    [good, company, cool, workplace, work, load, l...\n",
       "1    [1, need, work, bos, whim, fancy, 2, priority,...\n",
       "2    [good, company, every, engineer, dream, full, ...\n",
       "3    [pas, bsc, chemistry, typical, day, work, mang...\n",
       "4    [fun, work, blame, game, target, people, le, t...\n",
       "Name: CompleteReview, dtype: object"
      ]
     },
     "execution_count": 484,
     "metadata": {},
     "output_type": "execute_result"
    }
   ],
   "source": [
    "df['CompleteReview'].head()"
   ]
  },
  {
   "cell_type": "code",
   "execution_count": 485,
   "id": "cb3c946a",
   "metadata": {},
   "outputs": [
    {
     "data": {
      "text/plain": [
       "145204    [get, lot, learn, company, systematic, follows...\n",
       "145205    [lot, scope, learn, different, technology, use...\n",
       "145206    [overall, positive, experience, nice, environm...\n",
       "145207    [happy, started, career, pretigeous, group, ev...\n",
       "145208    [got, good, experience, knowledge, work, credi...\n",
       "Name: CompleteReview, dtype: object"
      ]
     },
     "execution_count": 485,
     "metadata": {},
     "output_type": "execute_result"
    }
   ],
   "source": [
    "df['CompleteReview'].tail()"
   ]
  },
  {
   "cell_type": "markdown",
   "id": "0d989166",
   "metadata": {},
   "source": [
    "#### Position Data"
   ]
  },
  {
   "cell_type": "code",
   "execution_count": 486,
   "id": "887f9b5c",
   "metadata": {},
   "outputs": [
    {
     "data": {
      "text/plain": [
       "Former Employee                                                    79193\n",
       "Current Employee                                                   65493\n",
       "Officer   (Former Employee                                            93\n",
       "Officer   (Current Employee                                           74\n",
       "Employee   (Current Employee                                          19\n",
       "                                                                   ...  \n",
       "Training   (Current Employee                                           1\n",
       "customer satisfaction offcier, credit cards    (Former Employee        1\n",
       "marketing   (Former Employee                                           1\n",
       "https://www.indeed.co.in/   (Former Employee                           1\n",
       "PROGRAMER .........   (Former Employee                                 1\n",
       "Name: Position, Length: 181, dtype: int64"
      ]
     },
     "execution_count": 486,
     "metadata": {},
     "output_type": "execute_result"
    }
   ],
   "source": [
    "df['Position'].value_counts()"
   ]
  },
  {
   "cell_type": "markdown",
   "id": "ca11598c",
   "metadata": {},
   "source": [
    "So, what I want to do is anyone who is a former employee should be in the former employee tag and same with current employees. I want to binary set of data."
   ]
  },
  {
   "cell_type": "code",
   "execution_count": 487,
   "id": "26d5e086",
   "metadata": {},
   "outputs": [],
   "source": [
    "df.loc[df['Position'].str.contains('Current Employee'), 'Position'] = 'Current Employee'"
   ]
  },
  {
   "cell_type": "code",
   "execution_count": 488,
   "id": "7d2219a3",
   "metadata": {},
   "outputs": [],
   "source": [
    "df.loc[df['Position'].str.contains('Former Employee'), 'Position'] = 'Former Employee'"
   ]
  },
  {
   "cell_type": "code",
   "execution_count": 489,
   "id": "0d3a1e59",
   "metadata": {},
   "outputs": [
    {
     "data": {
      "text/plain": [
       "Former Employee     79461\n",
       "Current Employee    65748\n",
       "Name: Position, dtype: int64"
      ]
     },
     "execution_count": 489,
     "metadata": {},
     "output_type": "execute_result"
    }
   ],
   "source": [
    "df['Position'].value_counts()"
   ]
  },
  {
   "cell_type": "markdown",
   "id": "1d1f0a9e",
   "metadata": {},
   "source": [
    "#### Review Title Data"
   ]
  },
  {
   "cell_type": "code",
   "execution_count": 490,
   "id": "edfd6b33",
   "metadata": {},
   "outputs": [],
   "source": [
    "# we will first create a copy column for later refrence\n",
    "\n",
    "df['ReviewTitle_ref'] = df['ReviewTitle']"
   ]
  },
  {
   "cell_type": "code",
   "execution_count": 491,
   "id": "5e06f3bf",
   "metadata": {},
   "outputs": [
    {
     "data": {
      "text/plain": [
       "150"
      ]
     },
     "execution_count": 491,
     "metadata": {},
     "output_type": "execute_result"
    }
   ],
   "source": [
    "df['ReviewTitle'].str.len().max()"
   ]
  },
  {
   "cell_type": "code",
   "execution_count": 492,
   "id": "738966fd",
   "metadata": {},
   "outputs": [
    {
     "data": {
      "text/plain": [
       "1"
      ]
     },
     "execution_count": 492,
     "metadata": {},
     "output_type": "execute_result"
    }
   ],
   "source": [
    "df['ReviewTitle'].str.len().min()"
   ]
  },
  {
   "cell_type": "code",
   "execution_count": 493,
   "id": "56e87c60",
   "metadata": {},
   "outputs": [
    {
     "data": {
      "text/plain": [
       "27.678890426901912"
      ]
     },
     "execution_count": 493,
     "metadata": {},
     "output_type": "execute_result"
    }
   ],
   "source": [
    "df['ReviewTitle'].str.len().mean()"
   ]
  },
  {
   "cell_type": "code",
   "execution_count": 494,
   "id": "89aa1141",
   "metadata": {},
   "outputs": [
    {
     "data": {
      "text/plain": [
       "20.368275710963566"
      ]
     },
     "execution_count": 494,
     "metadata": {},
     "output_type": "execute_result"
    }
   ],
   "source": [
    "df['ReviewTitle'].str.len().std()"
   ]
  },
  {
   "cell_type": "markdown",
   "id": "8aab793f",
   "metadata": {},
   "source": [
    "Since we can see that the average title is 28 letters and the standard deviation is around 20, we need to preprocess the review title data as well the same way we did to complete review. We did not do that before as we had no idea about these mathematical figures."
   ]
  },
  {
   "cell_type": "code",
   "execution_count": 495,
   "id": "57b96faa",
   "metadata": {},
   "outputs": [],
   "source": [
    "df['ReviewTitle'] = df['ReviewTitle'].apply(remove_tags)\n",
    "df['ReviewTitle'] = df['ReviewTitle'].apply(special_char)\n",
    "df['ReviewTitle'] = df['ReviewTitle'].apply(convert_lower)\n",
    "df['ReviewTitle'] = df['ReviewTitle'].apply(remove_stopwords)\n",
    "df['ReviewTitle'] = df['ReviewTitle'].apply(lemmatize_word)\n",
    "df['ReviewTitle'] = df['ReviewTitle'].apply(tokenize_word)"
   ]
  },
  {
   "cell_type": "code",
   "execution_count": 496,
   "id": "2cafdbf6",
   "metadata": {},
   "outputs": [
    {
     "data": {
      "text/plain": [
       "0                        [productive]\n",
       "1                         [stressful]\n",
       "2    [good, company, every, employee]\n",
       "3                        [productive]\n",
       "4                   [non, productive]\n",
       "Name: ReviewTitle, dtype: object"
      ]
     },
     "execution_count": 496,
     "metadata": {},
     "output_type": "execute_result"
    }
   ],
   "source": [
    "df['ReviewTitle'].head()"
   ]
  },
  {
   "cell_type": "code",
   "execution_count": 497,
   "id": "6fe519c7",
   "metadata": {},
   "outputs": [
    {
     "data": {
      "text/plain": [
       "145204       [definitely, good, place, work, lot, learning]\n",
       "145205        [service, company, great, scope, improvement]\n",
       "145206    [productive, fun, work, great, place, certific...\n",
       "145207                        [great, place, start, career]\n",
       "145208                                  [nice, place, work]\n",
       "Name: ReviewTitle, dtype: object"
      ]
     },
     "execution_count": 497,
     "metadata": {},
     "output_type": "execute_result"
    }
   ],
   "source": [
    "df['ReviewTitle'].tail()"
   ]
  },
  {
   "cell_type": "markdown",
   "id": "6b12a6a7",
   "metadata": {},
   "source": [
    "Good, our work with the data is done. Now, we can actually start doing some work."
   ]
  },
  {
   "cell_type": "markdown",
   "id": "1e1ad6b2",
   "metadata": {},
   "source": [
    "## Sentiment Ananlysis using Sentiment Intensity Analyzer\n",
    "\n",
    "Now, we will give the sentiment score to each of the reviews in order to try and access the kind of the culture that goes around in the specified company. \n",
    "\n",
    "We will use  VADER (Valence Aware Dictionary and Sentiment Reasoner) intensity analyzer to determine the score of the text."
   ]
  },
  {
   "cell_type": "code",
   "execution_count": 498,
   "id": "0ebb8a88",
   "metadata": {},
   "outputs": [],
   "source": [
    "def get_overall_sentiment(tokens):\n",
    "    analyzer = SentimentIntensityAnalyzer()\n",
    "    sentiment_scores = []\n",
    "    for token in tokens:\n",
    "        score = analyzer.polarity_scores(token)\n",
    "        sentiment_scores.append(score)\n",
    "    compound_scores = [score['compound'] for score in sentiment_scores]\n",
    "    overall_sentiment = sum(compound_scores) / len(compound_scores)\n",
    "    return overall_sentiment"
   ]
  },
  {
   "cell_type": "code",
   "execution_count": 499,
   "id": "bd8b87ad",
   "metadata": {},
   "outputs": [],
   "source": [
    "df['sentiment_score'] = (df['ReviewTitle'] + df['CompleteReview']).apply(get_overall_sentiment)"
   ]
  },
  {
   "cell_type": "markdown",
   "id": "23af0aa0",
   "metadata": {},
   "source": [
    "Let's compare the first 5 titles to the score to see if it's correct or not."
   ]
  },
  {
   "cell_type": "code",
   "execution_count": 500,
   "id": "49f69d1e",
   "metadata": {},
   "outputs": [
    {
     "data": {
      "text/html": [
       "<div>\n",
       "<style scoped>\n",
       "    .dataframe tbody tr th:only-of-type {\n",
       "        vertical-align: middle;\n",
       "    }\n",
       "\n",
       "    .dataframe tbody tr th {\n",
       "        vertical-align: top;\n",
       "    }\n",
       "\n",
       "    .dataframe thead th {\n",
       "        text-align: right;\n",
       "    }\n",
       "</style>\n",
       "<table border=\"1\" class=\"dataframe\">\n",
       "  <thead>\n",
       "    <tr style=\"text-align: right;\">\n",
       "      <th></th>\n",
       "      <th>ReviewTitle</th>\n",
       "      <th>CompleteReview</th>\n",
       "      <th>Rating</th>\n",
       "      <th>Position</th>\n",
       "      <th>Date</th>\n",
       "      <th>Company</th>\n",
       "      <th>CompleteReview_ref</th>\n",
       "      <th>ReviewTitle_ref</th>\n",
       "      <th>sentiment_score</th>\n",
       "    </tr>\n",
       "  </thead>\n",
       "  <tbody>\n",
       "    <tr>\n",
       "      <th>0</th>\n",
       "      <td>[productive]</td>\n",
       "      <td>[good, company, cool, workplace, work, load, l...</td>\n",
       "      <td>3</td>\n",
       "      <td>Current Employee</td>\n",
       "      <td>August 30, 2021</td>\n",
       "      <td>Reliance-Industries-Ltd</td>\n",
       "      <td>Good company, cool workplace, work load little...</td>\n",
       "      <td>Productive</td>\n",
       "      <td>0.085186</td>\n",
       "    </tr>\n",
       "    <tr>\n",
       "      <th>1</th>\n",
       "      <td>[stressful]</td>\n",
       "      <td>[1, need, work, bos, whim, fancy, 2, priority,...</td>\n",
       "      <td>3</td>\n",
       "      <td>Former Employee</td>\n",
       "      <td>August 26, 2021</td>\n",
       "      <td>Reliance-Industries-Ltd</td>\n",
       "      <td>1. Need to work on boss's whims and fancies 2....</td>\n",
       "      <td>Stressful</td>\n",
       "      <td>-0.024795</td>\n",
       "    </tr>\n",
       "    <tr>\n",
       "      <th>2</th>\n",
       "      <td>[good, company, every, employee]</td>\n",
       "      <td>[good, company, every, engineer, dream, full, ...</td>\n",
       "      <td>5</td>\n",
       "      <td>Former Employee</td>\n",
       "      <td>August 17, 2021</td>\n",
       "      <td>Reliance-Industries-Ltd</td>\n",
       "      <td>Good company for every Engineers dream, Full M...</td>\n",
       "      <td>Good Company for Every employee</td>\n",
       "      <td>0.082558</td>\n",
       "    </tr>\n",
       "    <tr>\n",
       "      <th>3</th>\n",
       "      <td>[productive]</td>\n",
       "      <td>[pas, bsc, chemistry, typical, day, work, mang...</td>\n",
       "      <td>5</td>\n",
       "      <td>Current Employee</td>\n",
       "      <td>August 17, 2021</td>\n",
       "      <td>Reliance-Industries-Ltd</td>\n",
       "      <td>I am just pass out bsc in chemistry Typical da...</td>\n",
       "      <td>Productive</td>\n",
       "      <td>0.051812</td>\n",
       "    </tr>\n",
       "    <tr>\n",
       "      <th>4</th>\n",
       "      <td>[non, productive]</td>\n",
       "      <td>[fun, work, blame, game, target, people, le, t...</td>\n",
       "      <td>1</td>\n",
       "      <td>Former Employee</td>\n",
       "      <td>August 9, 2021</td>\n",
       "      <td>Reliance-Industries-Ltd</td>\n",
       "      <td>Not so fun at work just blame games  Target pe...</td>\n",
       "      <td>Non productive</td>\n",
       "      <td>-0.024957</td>\n",
       "    </tr>\n",
       "  </tbody>\n",
       "</table>\n",
       "</div>"
      ],
      "text/plain": [
       "                        ReviewTitle  \\\n",
       "0                      [productive]   \n",
       "1                       [stressful]   \n",
       "2  [good, company, every, employee]   \n",
       "3                      [productive]   \n",
       "4                 [non, productive]   \n",
       "\n",
       "                                      CompleteReview  Rating  \\\n",
       "0  [good, company, cool, workplace, work, load, l...       3   \n",
       "1  [1, need, work, bos, whim, fancy, 2, priority,...       3   \n",
       "2  [good, company, every, engineer, dream, full, ...       5   \n",
       "3  [pas, bsc, chemistry, typical, day, work, mang...       5   \n",
       "4  [fun, work, blame, game, target, people, le, t...       1   \n",
       "\n",
       "           Position              Date                  Company  \\\n",
       "0  Current Employee   August 30, 2021  Reliance-Industries-Ltd   \n",
       "1   Former Employee   August 26, 2021  Reliance-Industries-Ltd   \n",
       "2   Former Employee   August 17, 2021  Reliance-Industries-Ltd   \n",
       "3  Current Employee   August 17, 2021  Reliance-Industries-Ltd   \n",
       "4   Former Employee    August 9, 2021  Reliance-Industries-Ltd   \n",
       "\n",
       "                                  CompleteReview_ref  \\\n",
       "0  Good company, cool workplace, work load little...   \n",
       "1  1. Need to work on boss's whims and fancies 2....   \n",
       "2  Good company for every Engineers dream, Full M...   \n",
       "3  I am just pass out bsc in chemistry Typical da...   \n",
       "4  Not so fun at work just blame games  Target pe...   \n",
       "\n",
       "                   ReviewTitle_ref  sentiment_score  \n",
       "0                       Productive         0.085186  \n",
       "1                        Stressful        -0.024795  \n",
       "2  Good Company for Every employee         0.082558  \n",
       "3                       Productive         0.051812  \n",
       "4                   Non productive        -0.024957  "
      ]
     },
     "execution_count": 500,
     "metadata": {},
     "output_type": "execute_result"
    }
   ],
   "source": [
    "df.head()"
   ]
  },
  {
   "cell_type": "markdown",
   "id": "4e03ba2b",
   "metadata": {},
   "source": [
    "## Overall Score of the Company\n",
    "\n",
    "Since we can see that we have a rating for each review, we will create a new column called overall_score, in which we will average out the sentiment_score with the rating."
   ]
  },
  {
   "cell_type": "code",
   "execution_count": 501,
   "id": "5c44c7ee",
   "metadata": {},
   "outputs": [],
   "source": [
    "df['Overall_Score'] = abs(df['sentiment_score'])*df['Rating']"
   ]
  },
  {
   "cell_type": "code",
   "execution_count": 502,
   "id": "c34634e3",
   "metadata": {},
   "outputs": [
    {
     "data": {
      "text/plain": [
       "0    0.255559\n",
       "1    0.074384\n",
       "2    0.412792\n",
       "3    0.259059\n",
       "4    0.024957\n",
       "Name: Overall_Score, dtype: float64"
      ]
     },
     "execution_count": 502,
     "metadata": {},
     "output_type": "execute_result"
    }
   ],
   "source": [
    "df['Overall_Score'].head()"
   ]
  },
  {
   "cell_type": "code",
   "execution_count": 503,
   "id": "e5dd7197",
   "metadata": {},
   "outputs": [
    {
     "data": {
      "text/html": [
       "<div>\n",
       "<style scoped>\n",
       "    .dataframe tbody tr th:only-of-type {\n",
       "        vertical-align: middle;\n",
       "    }\n",
       "\n",
       "    .dataframe tbody tr th {\n",
       "        vertical-align: top;\n",
       "    }\n",
       "\n",
       "    .dataframe thead th {\n",
       "        text-align: right;\n",
       "    }\n",
       "</style>\n",
       "<table border=\"1\" class=\"dataframe\">\n",
       "  <thead>\n",
       "    <tr style=\"text-align: right;\">\n",
       "      <th></th>\n",
       "      <th>ReviewTitle</th>\n",
       "      <th>CompleteReview</th>\n",
       "      <th>Rating</th>\n",
       "      <th>Position</th>\n",
       "      <th>Date</th>\n",
       "      <th>Company</th>\n",
       "      <th>CompleteReview_ref</th>\n",
       "      <th>ReviewTitle_ref</th>\n",
       "      <th>sentiment_score</th>\n",
       "      <th>Overall_Score</th>\n",
       "    </tr>\n",
       "  </thead>\n",
       "  <tbody>\n",
       "    <tr>\n",
       "      <th>0</th>\n",
       "      <td>[productive]</td>\n",
       "      <td>[good, company, cool, workplace, work, load, l...</td>\n",
       "      <td>3</td>\n",
       "      <td>Current Employee</td>\n",
       "      <td>August 30, 2021</td>\n",
       "      <td>Reliance-Industries-Ltd</td>\n",
       "      <td>Good company, cool workplace, work load little...</td>\n",
       "      <td>Productive</td>\n",
       "      <td>0.085186</td>\n",
       "      <td>0.255559</td>\n",
       "    </tr>\n",
       "    <tr>\n",
       "      <th>1</th>\n",
       "      <td>[stressful]</td>\n",
       "      <td>[1, need, work, bos, whim, fancy, 2, priority,...</td>\n",
       "      <td>3</td>\n",
       "      <td>Former Employee</td>\n",
       "      <td>August 26, 2021</td>\n",
       "      <td>Reliance-Industries-Ltd</td>\n",
       "      <td>1. Need to work on boss's whims and fancies 2....</td>\n",
       "      <td>Stressful</td>\n",
       "      <td>-0.024795</td>\n",
       "      <td>0.074384</td>\n",
       "    </tr>\n",
       "    <tr>\n",
       "      <th>2</th>\n",
       "      <td>[good, company, every, employee]</td>\n",
       "      <td>[good, company, every, engineer, dream, full, ...</td>\n",
       "      <td>5</td>\n",
       "      <td>Former Employee</td>\n",
       "      <td>August 17, 2021</td>\n",
       "      <td>Reliance-Industries-Ltd</td>\n",
       "      <td>Good company for every Engineers dream, Full M...</td>\n",
       "      <td>Good Company for Every employee</td>\n",
       "      <td>0.082558</td>\n",
       "      <td>0.412792</td>\n",
       "    </tr>\n",
       "    <tr>\n",
       "      <th>3</th>\n",
       "      <td>[productive]</td>\n",
       "      <td>[pas, bsc, chemistry, typical, day, work, mang...</td>\n",
       "      <td>5</td>\n",
       "      <td>Current Employee</td>\n",
       "      <td>August 17, 2021</td>\n",
       "      <td>Reliance-Industries-Ltd</td>\n",
       "      <td>I am just pass out bsc in chemistry Typical da...</td>\n",
       "      <td>Productive</td>\n",
       "      <td>0.051812</td>\n",
       "      <td>0.259059</td>\n",
       "    </tr>\n",
       "    <tr>\n",
       "      <th>4</th>\n",
       "      <td>[non, productive]</td>\n",
       "      <td>[fun, work, blame, game, target, people, le, t...</td>\n",
       "      <td>1</td>\n",
       "      <td>Former Employee</td>\n",
       "      <td>August 9, 2021</td>\n",
       "      <td>Reliance-Industries-Ltd</td>\n",
       "      <td>Not so fun at work just blame games  Target pe...</td>\n",
       "      <td>Non productive</td>\n",
       "      <td>-0.024957</td>\n",
       "      <td>0.024957</td>\n",
       "    </tr>\n",
       "  </tbody>\n",
       "</table>\n",
       "</div>"
      ],
      "text/plain": [
       "                        ReviewTitle  \\\n",
       "0                      [productive]   \n",
       "1                       [stressful]   \n",
       "2  [good, company, every, employee]   \n",
       "3                      [productive]   \n",
       "4                 [non, productive]   \n",
       "\n",
       "                                      CompleteReview  Rating  \\\n",
       "0  [good, company, cool, workplace, work, load, l...       3   \n",
       "1  [1, need, work, bos, whim, fancy, 2, priority,...       3   \n",
       "2  [good, company, every, engineer, dream, full, ...       5   \n",
       "3  [pas, bsc, chemistry, typical, day, work, mang...       5   \n",
       "4  [fun, work, blame, game, target, people, le, t...       1   \n",
       "\n",
       "           Position              Date                  Company  \\\n",
       "0  Current Employee   August 30, 2021  Reliance-Industries-Ltd   \n",
       "1   Former Employee   August 26, 2021  Reliance-Industries-Ltd   \n",
       "2   Former Employee   August 17, 2021  Reliance-Industries-Ltd   \n",
       "3  Current Employee   August 17, 2021  Reliance-Industries-Ltd   \n",
       "4   Former Employee    August 9, 2021  Reliance-Industries-Ltd   \n",
       "\n",
       "                                  CompleteReview_ref  \\\n",
       "0  Good company, cool workplace, work load little...   \n",
       "1  1. Need to work on boss's whims and fancies 2....   \n",
       "2  Good company for every Engineers dream, Full M...   \n",
       "3  I am just pass out bsc in chemistry Typical da...   \n",
       "4  Not so fun at work just blame games  Target pe...   \n",
       "\n",
       "                   ReviewTitle_ref  sentiment_score  Overall_Score  \n",
       "0                       Productive         0.085186       0.255559  \n",
       "1                        Stressful        -0.024795       0.074384  \n",
       "2  Good Company for Every employee         0.082558       0.412792  \n",
       "3                       Productive         0.051812       0.259059  \n",
       "4                   Non productive        -0.024957       0.024957  "
      ]
     },
     "execution_count": 503,
     "metadata": {},
     "output_type": "execute_result"
    }
   ],
   "source": [
    "df.head()"
   ]
  },
  {
   "cell_type": "markdown",
   "id": "19a57e4b",
   "metadata": {},
   "source": [
    "## Scoring Company Cultures\n",
    "\n",
    "1. We will give an average score by their sentiment score average to the companies.\n",
    "2. We will give an average overall score by our sentiment score and overall score.\n",
    "2. We will give top 5 positive reviews based on both scores.\n",
    "3. We will give top 5 negative reviews based on both scores.\n",
    "4. We will give the most used words to describe the company."
   ]
  },
  {
   "cell_type": "code",
   "execution_count": 504,
   "id": "d47b8f54",
   "metadata": {},
   "outputs": [],
   "source": [
    "companies = df['Company'].unique()"
   ]
  },
  {
   "cell_type": "code",
   "execution_count": 505,
   "id": "2b9d64f7",
   "metadata": {},
   "outputs": [
    {
     "data": {
      "text/plain": [
       "array(['Reliance-Industries-Ltd', 'Mphasis', 'Kpmg', 'Yes-Bank',\n",
       "       'Sutherland', 'Marriott-International,-Inc.', 'DHL', 'Jio',\n",
       "       'Vodafoneziggo', 'HP', 'Maersk', 'Ride.swiggy', 'Jll', 'Alstom',\n",
       "       'UnitedHealth-Group', 'Tata-Consultancy-Services-(tcs)',\n",
       "       'Capgemini', 'Teleperformance', 'Cognizant-Technology-Solutions',\n",
       "       'Mahindra-&-Mahindra-Ltd', 'L&T-Technology-Services-Ltd.',\n",
       "       'Bharti-Airtel-Limited', 'Indeed', 'Hyatt',\n",
       "       'Icici-Prudential-Life-Insurance', 'Accenture', 'Honeywell',\n",
       "       'Standard-Chartered-Bank', 'Nokia', 'Apollo-Hospitals',\n",
       "       'Tata-Aia-Life', 'Hdfc-Bank', 'Bosch', 'Deloitte', 'Ey',\n",
       "       'Microsoft', 'Barclays', 'JPMorgan-Chase', 'Muthoot-Finance',\n",
       "       'Wns-Global-Services', 'Kotak-Mahindra-Bank', 'Infosys', 'Oracle',\n",
       "       \"Byju's\", 'Deutsche-Bank', 'Hinduja-Global-Solutions', 'Ericsson',\n",
       "       'Axis-Bank', 'IBM', 'Concentrix', 'Wells-Fargo', 'Google',\n",
       "       'Dell-Technologies', 'Facebook', 'Amazon.com', 'Flipkart.com',\n",
       "       'American-Express', 'Citi', 'HSBC'], dtype=object)"
      ]
     },
     "execution_count": 505,
     "metadata": {},
     "output_type": "execute_result"
    }
   ],
   "source": [
    "companies"
   ]
  },
  {
   "cell_type": "code",
   "execution_count": 506,
   "id": "bd7bd23b",
   "metadata": {},
   "outputs": [],
   "source": [
    "df['Date'] = df['Date'].str.lstrip()"
   ]
  },
  {
   "cell_type": "code",
   "execution_count": 507,
   "id": "98cb0aff",
   "metadata": {},
   "outputs": [],
   "source": [
    "def average_sentiment_score(company):\n",
    "    return df['sentiment_score'][df['Company'] == company].mean()"
   ]
  },
  {
   "cell_type": "code",
   "execution_count": 508,
   "id": "5e8caccd",
   "metadata": {},
   "outputs": [],
   "source": [
    "def average_overall_score(company):\n",
    "    return df['Overall_Score'][df['Company'] == company].mean()"
   ]
  },
  {
   "cell_type": "code",
   "execution_count": 532,
   "id": "7e810511",
   "metadata": {},
   "outputs": [],
   "source": [
    "def top_5_reviews_good(company):\n",
    "    company_df = df[df[\"Company\"] == company]\n",
    "    top_5 = company_df.nlargest(5, \"sentiment_score\")\n",
    "    \n",
    "    print(\"Top 5 on basis of Sentiment Score\\n\\n\")\n",
    "    \n",
    "    for index, row in top_5.iterrows():\n",
    "        print(f\"Title: {row['ReviewTitle_ref']}\")\n",
    "        print(f\"Description: {row['CompleteReview_ref']}\")\n",
    "        print()\n",
    "        \n",
    "    print('\\n\\n')    \n",
    "    print(\"Top 5 on basis of Overall Score\\n\\n\")\n",
    "    \n",
    "    top_5 = company_df.nlargest(5, \"Overall_Score\")\n",
    "    for index, row in top_5.iterrows():\n",
    "        print(f\"Title: {row['ReviewTitle_ref']}\")\n",
    "        print(f\"Description: {row['CompleteReview_ref']}\")\n",
    "        print()\n",
    "    print('\\n\\n') "
   ]
  },
  {
   "cell_type": "code",
   "execution_count": 533,
   "id": "680c9e94",
   "metadata": {},
   "outputs": [],
   "source": [
    "def top_5_reviews_bad(company):\n",
    "    company_df = df[df[\"Company\"] == company]\n",
    "    top_5 = company_df.nsmallest(5, \"sentiment_score\")\n",
    "    \n",
    "    print(\"Bottom 5 on basis of Sentiment Score\\n\\n\")\n",
    "    \n",
    "    for index, row in top_5.iterrows():\n",
    "        print(f\"Title: {row['ReviewTitle_ref']}\")\n",
    "        print(f\"Description: {row['CompleteReview_ref']}\")\n",
    "        print()\n",
    "        \n",
    "    print('\\n\\n')    \n",
    "    print(\"Bottom 5 on basis of Overall Score\\n\\n\")\n",
    "    \n",
    "    top_5 = company_df.nsmallest(5, \"Overall_Score\")\n",
    "    for index, row in top_5.iterrows():\n",
    "        print(f\"Title: {row['ReviewTitle_ref']}\")\n",
    "        print(f\"Description: {row['CompleteReview_ref']}\")\n",
    "        print()\n",
    "    print('\\n\\n') "
   ]
  },
  {
   "cell_type": "code",
   "execution_count": 534,
   "id": "4474215e",
   "metadata": {},
   "outputs": [],
   "source": [
    "def generate_word_cloud(df, company_name):\n",
    "    \n",
    "    dict_words = {}\n",
    "    for i in df['CompleteReview'][df['Company'] == company_name]:\n",
    "        for j in i:\n",
    "            if j not in dict_words:\n",
    "                dict_words[j] = 1\n",
    "            else:\n",
    "                dict_words[j] += 1\n",
    "    \n",
    "    sorted_dict = {k: v for k, v in sorted(dict_words.items(), key=lambda item: item[1], reverse=True)}\n",
    "\n",
    "    count = 0\n",
    "    for key, value in sorted_dict.items():\n",
    "        if count < 5:\n",
    "            print(key, value)\n",
    "            count += 1\n",
    "        else:\n",
    "            break"
   ]
  },
  {
   "cell_type": "code",
   "execution_count": 535,
   "id": "f5b64716",
   "metadata": {},
   "outputs": [],
   "source": [
    "def company_info(company_name):\n",
    "    print(\"Sentiment Score : \", average_sentiment_score(company_name))\n",
    "    print(\"Overall Score : \", average_overall_score(company_name))\n",
    "    print(\"Top 5 Good Reviews : \", top_5_reviews_good(company_name))\n",
    "    print(\"Top 5 Bad Reviews : \", top_5_reviews_bad(company_name))\n",
    "    print(\"Top 5 word used : \", generate_word_cloud(df, company_name))"
   ]
  },
  {
   "cell_type": "code",
   "execution_count": 536,
   "id": "9d3b1afe",
   "metadata": {},
   "outputs": [
    {
     "name": "stdout",
     "output_type": "stream",
     "text": [
      "Sentiment Score :  0.07722220517227033\n",
      "Overall Score :  0.3242340981486553\n",
      "Top 5 on basis of Sentiment Score\n",
      "\n",
      "\n",
      "Title: It's good\n",
      "Description: Yes Bank is the Good place for work. I enjoyed my work in yes Bank and good management . Yes bank branch people's they supporting me.thanks to yes bank giving the opportunity ....​\n",
      "\n",
      "Title: Excellent Experience\n",
      " Staff is excellent,supportive and understanable\n",
      "\n",
      "Title: Excellent\n",
      "Description: Better place to work and environment is awesome for work. Here you will get colleagues support that helps to grow here easily. And also you will get super bosses help.\n",
      "\n",
      "Title: productive and fun\n",
      " Rewards and Recognition is one of the best part.\n",
      "\n",
      "Title: Great Experience\n",
      " I have been blessed to start my career with Yes Bank...\n",
      "\n",
      "\n",
      "\n",
      "\n",
      "Top 5 on basis of Overall Score\n",
      "\n",
      "\n",
      "Title: Excellent Experience\n",
      " Staff is excellent,supportive and understanable\n",
      "\n",
      "Title: Excellent\n",
      "Description: Better place to work and environment is awesome for work. Here you will get colleagues support that helps to grow here easily. And also you will get super bosses help.\n",
      "\n",
      "Title: productive and fun\n",
      " Rewards and Recognition is one of the best part.\n",
      "\n",
      "Title: Great Experience\n",
      " I have been blessed to start my career with Yes Bank...\n",
      "\n",
      "Title: great environment . growth opportunities , motivated to work\n",
      "Description: it was great experience to work here , the management is great and very helpful, provides various opportunities to show your talent  and also the level of work is too good, especially a lot to learn ,\n",
      "\n",
      "\n",
      "\n",
      "\n",
      "Top 5 Good Reviews :  None\n",
      "Bottom 5 on basis of Sentiment Score\n",
      "\n",
      "\n",
      "Title: Immature management and unprofessional work culture\n",
      "Description: Immature management and unprofessional work culture. Only stress is on looking and dressing professionally, but the work culture is very unprofessional. No defined processes and everything runs haywire.\n",
      "\n",
      "Title: Quite disappointing\n",
      "Description: Work culture is very imbalanced supervisory ownership role missing no guidance at all.Quite disturbing the management approach towords the management\n",
      "\n",
      "Title: Too much work pressure always\n",
      " Traning not proving timly , always under pressure , no work life balance\n",
      "\n",
      "Title: Worst\n",
      "Description: It’s a worst place to work even we are doing good business. Why because if we do they will keep us on high and if we didn’t perform just for one month that’s it, don’t know where we will be\n",
      "\n",
      "Title: Pathetic organisation\n",
      "Description: Not organised working culture, poor infrastructure, dearth of computers, process to complete any operational task be it Account opening, processing instructions, getting your ID mapped, getting credit of your work is absolutely rubbish\n",
      "\n",
      "\n",
      "\n",
      "\n",
      "Bottom 5 on basis of Overall Score\n",
      "\n",
      "\n",
      "Title: Relationship Manager\n",
      " I am looking for job in similar field.\n",
      "\n",
      "Title: coustomer relashanship\n",
      " I work is planing for management.\n",
      "\n",
      "Title: The product which I am handling is very recently designed and\n",
      "Description: The time when i was joined product was started before 6 month and people are also there in the system and till today nobody have done business apart from me..  U can confirm the same in background verification\n",
      "\n",
      "Title: Working Review\n",
      "Description: At a time you gather some experience but does not make your future goal because it was a contractual job.they does not bring at parole system in future\n",
      "\n",
      "Title: Management needs to focus on employee retention\n",
      "Description: KRA & goal sheet changes every month. In my 6 months tenure my revenue target along with goal sheet changed thrice. With change in reporting structure & boss.  Portfolio assigned have common customers with other portfolio holder . N portfolio is centrally mapped so one have to wait.\n",
      "\n",
      "\n",
      "\n",
      "\n",
      "Top 5 Bad Reviews :  None\n",
      "good 732\n",
      "work 671\n",
      "bank 640\n",
      "yes 358\n",
      "management 270\n",
      "Top 5 word used :  None\n"
     ]
    }
   ],
   "source": [
    "company_info(companies[3])"
   ]
  },
  {
   "cell_type": "code",
   "execution_count": 537,
   "id": "cdc33746",
   "metadata": {},
   "outputs": [
    {
     "name": "stdout",
     "output_type": "stream",
     "text": [
      "Sentiment Score :  0.07405923263550536\n",
      "Overall Score :  0.3227425510385577\n",
      "Top 5 on basis of Sentiment Score\n",
      "\n",
      "\n",
      "Title: Great place to work\n",
      " Great rewards and recognition\n",
      "\n",
      "Title: Great place to work\n",
      " Respect and reward.\n",
      "\n",
      "Title: Challenging work atmosphear\n",
      "Description: A good working environment with good team support. Greatest achievement is getting award from management for \"Good Customer Satisfaction\".\n",
      "\n",
      "Title: Fun place and committed people\n",
      " Nice supportive co workers.\n",
      "\n",
      "Title: Good\n",
      "Description: nice place to work. Better work culture.Salary benefits are good.Management is genuine and friendly. job security is as like as any other Corporate companies.\n",
      "\n",
      "\n",
      "\n",
      "\n",
      "Top 5 on basis of Overall Score\n",
      "\n",
      "\n",
      "Title: Great place to work\n",
      " Respect and reward.\n",
      "\n",
      "Title: Challenging work atmosphear\n",
      "Description: A good working environment with good team support. Greatest achievement is getting award from management for \"Good Customer Satisfaction\".\n",
      "\n",
      "Title: Great place to work\n",
      " Great rewards and recognition\n",
      "\n",
      "Title: Fun place to work\n",
      "Description: wonderful organization to work. Good management and very nice co-workers\n",
      "\n",
      "Title: Productive and fun workplace\n",
      "Description: Excellent opportunities to grow.  Recognizes talent.  Fun place to work.  Performance driven.  Emphasis on health and safety.  Good workplace culture.\n",
      "\n",
      "\n",
      "\n",
      "\n",
      "Top 5 Good Reviews :  None\n",
      "Bottom 5 on basis of Sentiment Score\n",
      "\n",
      "\n",
      "Title: first MNC project\n",
      " Analysis and design of project were poor\n",
      "\n",
      "Title: Tough place to work\n",
      "Description: Drivers are dumped with consignments and treated as machines than humans. The delivery supervisors are always abusive in nature and there is no PEOPLE welfare.\n",
      "\n",
      "Title: Do not ever join this company!! Worst company to work for.\n",
      "Description: They have the worst work-life balance. They have a policy of slogging employees for lesser salary.  The managers are always slow working and organise end moment meetings.\n",
      "\n",
      "Title: Can work in difficult or Hard profile\n",
      "Description: Handled contract manpower issues,Contract Manpower Management,ESI,PF,Compliance.Welfare.\n",
      "\n",
      "Title: productive learning\n",
      " Poor Management,low salary,No fixed Timing,Slow Growth,Bad politics\n",
      "\n",
      "\n",
      "\n",
      "\n",
      "Bottom 5 on basis of Overall Score\n",
      "\n",
      "\n",
      "Title: 3.5 Out of 5\n",
      " There is lot of Saturation at every level and organisation doesnt have a progressional plan in place.\n",
      "\n",
      "Title: DHL express\n",
      "Description: Uma empresa com ideais de prioridade ao funcionário, abrange um ambiente familiar, com uma visão de crescimento pessoal dos funcionários e empresarial.\n",
      "\n",
      "Title: Decent company to work with\n",
      "Description: Decent company to work with. Its one of the biggest brand in the logistics industry. There are lot of things you can learn in this company related to logistics and freight management.\n",
      "\n",
      "Title: Management\n",
      "Description: learned skills with international certification , every years we have new training based on the market requirement to upgrade the employee skills to cope the business needs\n",
      "\n",
      "Title: Productivity is not more than just avg,and totally business is dull in this site.\n",
      "Description: I am yerriswamy from Bangalore working in DHL supply chain logistic company.but here it is less that productivity,and some other issues also there.I am not interested to job in this site.\n",
      "\n",
      "\n",
      "\n",
      "\n",
      "Top 5 Bad Reviews :  None\n",
      "work 412\n",
      "good 348\n",
      "dhl 233\n",
      "company 208\n",
      "management 155\n",
      "Top 5 word used :  None\n"
     ]
    }
   ],
   "source": [
    "company_info(companies[6])"
   ]
  },
  {
   "cell_type": "code",
   "execution_count": 539,
   "id": "9499a7fc",
   "metadata": {},
   "outputs": [
    {
     "name": "stdout",
     "output_type": "stream",
     "text": [
      "Sentiment Score :  0.07464897416564777\n",
      "Overall Score :  0.3239655245592988\n",
      "Top 5 on basis of Sentiment Score\n",
      "\n",
      "\n",
      "Title: Best facility.\n",
      " Very Innovative & Creative.\n",
      "\n",
      "Title: Great Corporate\n",
      "Description: Great company with high ethical values, good work environment,great exposure.\n",
      "\n",
      "Title: it is good..i like to join in this company\n",
      "Description: yes ...its a best opportunity to join in this company...but we have to work hard...because there is no shortcut to success...........😊😊😊😊😊😊😊😊.\n",
      "\n",
      "Title: Nice👏\n",
      " In reliance mean work is very good and all senior are very helpful they provide good support, encourage, motivation and very helpful\n",
      "\n",
      "Title: excellent\n",
      "Description: One of the best industries I have worked with. It provides all kinds of opportunities for an individual.\n",
      "\n",
      "\n",
      "\n",
      "\n",
      "Top 5 on basis of Overall Score\n",
      "\n",
      "\n",
      "Title: it is good..i like to join in this company\n",
      "Description: yes ...its a best opportunity to join in this company...but we have to work hard...because there is no shortcut to success...........😊😊😊😊😊😊😊😊.\n",
      "\n",
      "Title: Nice👏\n",
      " In reliance mean work is very good and all senior are very helpful they provide good support, encourage, motivation and very helpful\n",
      "\n",
      "Title: excellent\n",
      "Description: One of the best industries I have worked with. It provides all kinds of opportunities for an individual.\n",
      "\n",
      "Title: good\n",
      "Description: good excellent loving to work here,  future is all about jio. good working environment and strive for excellence in the future. management is very good\n",
      "\n",
      "Title: Best facility.\n",
      " Very Innovative & Creative.\n",
      "\n",
      "\n",
      "\n",
      "\n",
      "Top 5 Good Reviews :  None\n",
      "Bottom 5 on basis of Sentiment Score\n",
      "\n",
      "\n",
      "Title: Worst environment to work\n",
      " Salary - average.\n",
      "\n",
      "Title: Very poor worklife balance\n",
      " Emoloyees are treated as slaves\n",
      "\n",
      "Title: Worst\n",
      "Description: Worst then ever I faced in my 7 year career with multi tasking  No one working for their role  No dedicated work for any one  Feeling sad to work their\n",
      "\n",
      "Title: Crude & Petroleum Products Operations\n",
      "Description: Working as Crude & feedstock (VGO, FO) Operations professional with conglomerate like Reliance, I have gathered good knowledge of Crude Scheduling, Crude Contracts Implementation, Ocean loss, Demurrage & Charter party administration, competency to operate complete crude procurement to pay cycle.\n",
      "\n",
      "Title: Very poor management\n",
      "Description: Very poor management, Have different rules for different sections/ plants. Poor work life balance, Poor HR team & management. High work pressure. 1 good point about company is it's township and security of family\n",
      "\n",
      "\n",
      "\n",
      "\n",
      "Bottom 5 on basis of Overall Score\n",
      "\n",
      "\n",
      "Title: Communication is the key\n",
      "Description: In any reliance, communication and handwork is the key. Sometimes you will fee that there is a major hierarchy issue but in such big company it is very necessary to have an complex organisation\n",
      "\n",
      "Title: Not the right workplace for an engineer\n",
      "Description: I was hired as a management trainee. Most of the work involved handling people for simple maintenance tasks. It is an industry with multiple sites and people were sent on deputation to different locations with a very short notice. Typically during these deputations you were overworked with work days lasting form 12-16 hrs. Most of the engineering work is consulted from foreign agencies and you are given minimal tasks or execution of some engineering jobs.\n",
      "\n",
      "Title: Large company\n",
      "Description: Major large corporation with a somewhat bureaucratic setup. Has all the amenities on campus for convenience like a decent mess and recreational options.\n",
      "\n",
      "Title: Productive Workplace\n",
      "Description: I have learnt various marketing fundamentals in terms of marketing, strategic & financial terms viz. Strategic/Data Analyst, Presentations, Communications, PR, Marketing & Strategic Implementation. The more you take ownership, the more get to learn over here.\n",
      "\n",
      "Title: Construction\n",
      "Description: Construction and execution with supervision of non plant building, polymer control building,major bridge with labour colony at jamnagar refinery projects.\n",
      "\n",
      "\n",
      "\n",
      "\n",
      "Top 5 Bad Reviews :  None\n",
      "work 1271\n",
      "good 1124\n",
      "company 647\n",
      "job 502\n",
      "working 474\n",
      "Top 5 word used :  None\n"
     ]
    }
   ],
   "source": [
    "company_info(companies[0])"
   ]
  },
  {
   "cell_type": "code",
   "execution_count": 540,
   "id": "c31baae5",
   "metadata": {},
   "outputs": [
    {
     "name": "stdout",
     "output_type": "stream",
     "text": [
      "Sentiment Score :  0.0490399587693079\n",
      "Overall Score :  0.22227567326612335\n",
      "Top 5 on basis of Sentiment Score\n",
      "\n",
      "\n",
      "Title: Productive\n",
      "Description: Good place and good growth opportunities Team spirit Enthusiastic environment Co operative people Collaborative  Good incentive structure Fun loving\n",
      "\n",
      "Title: Great place to work in\n",
      " 2. Amazing opportunities\n",
      "\n",
      "Title: Excellent\n",
      "Description: Good culture great training managers very good short term growth product is very good,employees are very friendly,all managers helped lot during and after training, very polite and professional,very good benefits\n",
      "\n",
      "Title: Good\n",
      "Description: Good atmosphere,  good package,  nice experience,  everybody should work there to know the excellent work atmosphere.  Relaxed and cool place. Growth in career\n",
      "\n",
      "Title: Friendly\n",
      " Great incentives and international tours for performers\n",
      "\n",
      "\n",
      "\n",
      "\n",
      "Top 5 on basis of Overall Score\n",
      "\n",
      "\n",
      "Title: Great place to work in\n",
      " 2. Amazing opportunities\n",
      "\n",
      "Title: Excellent\n",
      "Description: Good culture great training managers very good short term growth product is very good,employees are very friendly,all managers helped lot during and after training, very polite and professional,very good benefits\n",
      "\n",
      "Title: Good\n",
      "Description: Good atmosphere,  good package,  nice experience,  everybody should work there to know the excellent work atmosphere.  Relaxed and cool place. Growth in career\n",
      "\n",
      "Title: Productive\n",
      "Description: Good place and good growth opportunities Team spirit Enthusiastic environment Co operative people Collaborative  Good incentive structure Fun loving\n",
      "\n",
      "Title: Good\n",
      " Provides good training for the sales and marketing\n",
      "\n",
      "\n",
      "\n",
      "\n",
      "Top 5 Good Reviews :  None\n",
      "Bottom 5 on basis of Sentiment Score\n",
      "\n",
      "\n",
      "Title: Media section\n",
      "Description: The management is too bad. They are doing politics in the office. Specially managers they don’t know anything about work but they are doing very bad with staff. It is a bad experience for me in Byjus\n",
      "\n",
      "Title: Pathetic work culture\n",
      "Description: In this organization you are just slaves. It is a call center and nothing more. Forget your social life, there are abusive managers and recently they got bad rep through a video that was circulated on twitter but they got it removed.\n",
      "\n",
      "Title: Stressful and lack of management\n",
      "Description: Very stressful work. Overworking is idolized. Managers are very young, and since they don't have a life, they expect their reportees to also not have a life.\n",
      "\n",
      "Title: Bad\n",
      "Description: Bad , stressful, toxic, no culture, cons, no learning, leave for better, everything on revenue, no medical leave, no comments on growth, no future, pathetic\n",
      "\n",
      "Title: Stressful and No work life balance\n",
      " learned a lot\n",
      "\n",
      "\n",
      "\n",
      "\n",
      "Bottom 5 on basis of Overall Score\n",
      "\n",
      "\n",
      "Title: Not Recommended\n",
      "Description: If a person has a good marketing skill then only he or she can exist there. Not recommended for people with a different background or a family man. This job needs you to be in office for at least 11 hours and on field for 12 or more hours. Target pressures are just too unrealistic. Leave policies are so poor that a person might consider taking off on expense of a day's salary.\n",
      "\n",
      "Title: No work life balance\n",
      "Description: It is good for someone who can fool people easily, they didn't pay my last month salary and de activated my professional e mail id, so that i won't be able to raise complaints\n",
      "\n",
      "Title: Work pressure\n",
      "Description: Heavy targets are given, company is good.. gives good facilities but mangers are very rude and not cooperating ..givit heavy targets,money minded.. no weekoffs given, no proper working hours\n",
      "\n",
      "Title: Work culture\n",
      "Description: It's like horrible nightmare to work in BYJU'S. never ever join this company.this is a cold calling job,there is always pressure to complete target and even after working whole day if your call time will not achieved,they will mark you absent\n",
      "\n",
      "Title: Hectic work schedule, zero work-life balance, management misuses the position powers.\n",
      " Traveling is too much, and the manager often prevents employees to use facility provided by the company.\n",
      "\n",
      "\n",
      "\n",
      "\n",
      "Top 5 Bad Reviews :  None\n",
      "work 260\n",
      "good 172\n",
      "sale 95\n",
      "company 95\n",
      "life 92\n",
      "Top 5 word used :  None\n"
     ]
    }
   ],
   "source": [
    "company_info(companies[43])"
   ]
  },
  {
   "cell_type": "markdown",
   "id": "269dbbe7",
   "metadata": {},
   "source": [
    "Thanks for reading the kernel! "
   ]
  }
 ],
 "metadata": {
  "kernelspec": {
   "display_name": "Python 3 (ipykernel)",
   "language": "python",
   "name": "python3"
  },
  "language_info": {
   "codemirror_mode": {
    "name": "ipython",
    "version": 3
   },
   "file_extension": ".py",
   "mimetype": "text/x-python",
   "name": "python",
   "nbconvert_exporter": "python",
   "pygments_lexer": "ipython3",
   "version": "3.9.7"
  }
 },
 "nbformat": 4,
 "nbformat_minor": 5
}
